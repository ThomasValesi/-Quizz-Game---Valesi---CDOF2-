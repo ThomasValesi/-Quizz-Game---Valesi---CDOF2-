{
  "nbformat": 4,
  "nbformat_minor": 0,
  "metadata": {
    "colab": {
      "provenance": [],
      "include_colab_link": true
    },
    "kernelspec": {
      "name": "python3",
      "display_name": "Python 3"
    },
    "language_info": {
      "name": "python"
    }
  },
  "cells": [
    {
      "cell_type": "markdown",
      "metadata": {
        "id": "view-in-github",
        "colab_type": "text"
      },
      "source": [
        "<a href=\"https://colab.research.google.com/github/ThomasValesi/-Quizz-Game---Valesi---CDOF2-/blob/main/TD1_Quiz_Game.ipynb\" target=\"_parent\"><img src=\"https://colab.research.google.com/assets/colab-badge.svg\" alt=\"Open In Colab\"/></a>"
      ]
    },
    {
      "cell_type": "code",
      "execution_count": null,
      "metadata": {
        "colab": {
          "base_uri": "https://localhost:8080/"
        },
        "id": "XZ7wkdJb54Ll",
        "outputId": "3ad86c55-d5d4-47fb-afe2-a9520810bc24"
      },
      "outputs": [
        {
          "output_type": "stream",
          "name": "stdout",
          "text": [
            "Welcome to the Quiz Game!\n",
            "\n",
            "Question 1: Which continent is the Sahara Desert located in?\n",
            "1. Asia\n",
            "2. Africa\n",
            "3. South America\n",
            "4. Australia\n",
            "Your answer (type the number): 2\n",
            "Correct!\n",
            "\n",
            "Question 2: What is the chemical symbol for water?\n",
            "1. O2\n",
            "2. H2O\n",
            "3. CO2\n",
            "4. HO\n",
            "Your answer (type the number): 2\n",
            "Correct!\n",
            "\n",
            "Question 3: Which country is known as the Land of the Rising Sun?\n",
            "1. China\n",
            "2. Japan\n",
            "3. Thailand\n",
            "4. South Korea\n",
            "Your answer (type the number): 2\n",
            "Correct!\n",
            "\n",
            "Question 4: Which planet is known as the Red Planet?\n",
            "1. Earth\n",
            "2. Mars\n",
            "3. Jupiter\n",
            "4. Venus\n",
            "Your answer (type the number): 2\n",
            "Correct!\n",
            "\n",
            "Question 5: What is the capital of France?\n",
            "1. Paris\n",
            "2. London\n",
            "3. Berlin\n",
            "4. Madrid\n",
            "Your answer (type the number): 1\n",
            "Correct!\n",
            "\n",
            "Question 6: What is the hardest natural substance on Earth?\n",
            "1. Gold\n",
            "2. Diamond\n",
            "3. Iron\n",
            "4. Quartz\n",
            "Your answer (type the number): 2\n",
            "Correct!\n",
            "\n",
            "Question 7: What is the smallest prime number?\n",
            "1. 0\n",
            "2. 1\n",
            "3. 2\n",
            "4. 3\n",
            "Your answer (type the number): 1\n",
            "Wrong! The correct answer was: 2\n",
            "\n",
            "Question 8: Who wrote 'Hamlet'?\n",
            "1. William Shakespeare\n",
            "2. Charles Dickens\n",
            "3. Mark Twain\n",
            "4. Leo Tolstoy\n",
            "Your answer (type the number): 1\n",
            "Correct!\n",
            "\n",
            "Question 9: What is the largest mammal in the world?\n",
            "1. Elephant\n",
            "2. Blue Whale\n",
            "3. Giraffe\n",
            "4. Hippopotamus\n",
            "Your answer (type the number): 2\n",
            "Correct!\n",
            "\n",
            "Question 10: What is the freezing point of water in Celsius?\n",
            "1. 0\n",
            "2. 32\n",
            "3. 100\n",
            "4. -10\n",
            "Your answer (type the number): 1\n",
            "Correct!\n",
            "\n",
            "Game Over! Your final score is 9/10.\n",
            "\n"
          ]
        }
      ],
      "source": [
        "import random\n",
        "\n",
        "questions = [\n",
        "    {\"question\": \"What is the capital of France?\", \"options\": [\"Paris\", \"London\", \"Berlin\", \"Madrid\"], \"answer\": \"Paris\"},\n",
        "    {\"question\": \"Which planet is known as the Red Planet?\", \"options\": [\"Earth\", \"Mars\", \"Jupiter\", \"Venus\"], \"answer\": \"Mars\"},\n",
        "    {\"question\": \"What is the chemical symbol for water?\", \"options\": [\"O2\", \"H2O\", \"CO2\", \"HO\"], \"answer\": \"H2O\"},\n",
        "    {\"question\": \"Who wrote 'Hamlet'?\", \"options\": [\"William Shakespeare\", \"Charles Dickens\", \"Mark Twain\", \"Leo Tolstoy\"], \"answer\": \"William Shakespeare\"},\n",
        "    {\"question\": \"What is the largest mammal in the world?\", \"options\": [\"Elephant\", \"Blue Whale\", \"Giraffe\", \"Hippopotamus\"], \"answer\": \"Blue Whale\"},\n",
        "    {\"question\": \"Which continent is the Sahara Desert located in?\", \"options\": [\"Asia\", \"Africa\", \"South America\", \"Australia\"], \"answer\": \"Africa\"},\n",
        "    {\"question\": \"What is the smallest prime number?\", \"options\": [\"0\", \"1\", \"2\", \"3\"], \"answer\": \"2\"},\n",
        "    {\"question\": \"What is the hardest natural substance on Earth?\", \"options\": [\"Gold\", \"Diamond\", \"Iron\", \"Quartz\"], \"answer\": \"Diamond\"},\n",
        "    {\"question\": \"Which country is known as the Land of the Rising Sun?\", \"options\": [\"China\", \"Japan\", \"Thailand\", \"South Korea\"], \"answer\": \"Japan\"},\n",
        "    {\"question\": \"What is the freezing point of water in Celsius?\", \"options\": [\"0\", \"32\", \"100\", \"-10\"], \"answer\": \"0\"}\n",
        "]\n",
        "\n",
        "def play_quiz():\n",
        "    print(\"Welcome to the Quiz Game!\\n\")\n",
        "    random.shuffle(questions)\n",
        "    score = 0\n",
        "\n",
        "    for idx, q in enumerate(questions):\n",
        "        print(f\"Question {idx + 1}: {q['question']}\")\n",
        "        for i, option in enumerate(q['options'], 1):\n",
        "            print(f\"{i}. {option}\")\n",
        "\n",
        "        try:\n",
        "            answer = int(input(\"Your answer (type the number): \"))\n",
        "            if q['options'][answer - 1] == q['answer']:\n",
        "                print(\"Correct!\\n\")\n",
        "                score += 1\n",
        "            else:\n",
        "                print(f\"Wrong! The correct answer was: {q['answer']}\\n\")\n",
        "        except (ValueError, IndexError):\n",
        "            print(\"Invalid input. Skipping question.\\n\")\n",
        "\n",
        "    print(f\"Game Over! Your final score is {score}/{len(questions)}.\\n\")\n",
        "\n",
        "play_quiz()\n"
      ]
    },
    {
      "cell_type": "markdown",
      "source": [
        "hello"
      ],
      "metadata": {
        "id": "aJCAWLwYE90Z"
      }
    },
    {
      "cell_type": "code",
      "source": [],
      "metadata": {
        "id": "kuu_KD0ZE_xa"
      },
      "execution_count": null,
      "outputs": []
    }
  ]
}